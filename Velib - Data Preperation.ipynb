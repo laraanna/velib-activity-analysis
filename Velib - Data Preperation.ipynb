{
 "cells": [
  {
   "cell_type": "code",
   "execution_count": 17,
   "metadata": {},
   "outputs": [],
   "source": [
    "import sqlite3\n",
    "import pandas as pd\n",
    "import datetime"
   ]
  },
  {
   "cell_type": "markdown",
   "metadata": {},
   "source": [
    "Data used for this project was downloaded from [here](https://pub.phyks.me/datasets/velib/2020/)"
   ]
  },
  {
   "cell_type": "code",
   "execution_count": 18,
   "metadata": {},
   "outputs": [],
   "source": [
    "def convertSql(filepath, table):\n",
    "    ary = []\n",
    "    connection = sqlite3.connect(\":memory:\")\n",
    "    cursor = connection.cursor()\n",
    "    \n",
    "    sql_file = open(filepath)\n",
    "    sql_as_string = sql_file.read()\n",
    "    cursor.executescript(sql_as_string)\n",
    "    \n",
    "    for row in cursor.execute(\"SELECT * FROM \" + table):\n",
    "        ary.append(row)\n",
    "    \n",
    "    return ary"
   ]
  },
  {
   "cell_type": "markdown",
   "metadata": {},
   "source": [
    "Create dataframe with pandas from converted array"
   ]
  },
  {
   "cell_type": "code",
   "execution_count": 19,
   "metadata": {},
   "outputs": [],
   "source": [
    "def createDF_activity(ary):\n",
    "    return pd.DataFrame(ary, columns =['station_id', 'available_bikes', 'available_ebikes', 'free_stands', 'status', 'updated']) "
   ]
  },
  {
   "cell_type": "code",
   "execution_count": 20,
   "metadata": {},
   "outputs": [],
   "source": [
    "entries_week_preLockdown = convertSql(\"./data/week_11.sql\", \"stationsstats\")\n",
    "entries_week_lockdown = convertSql(\"./data/week_12.sql\", \"stationsstats\")\n",
    "\n",
    "stations_velib = convertSql(\"./data/week_11.sql\", \"stations\")"
   ]
  },
  {
   "cell_type": "code",
   "execution_count": 21,
   "metadata": {},
   "outputs": [],
   "source": [
    "df_activity = createDF_activity(entries_week_preLockdown + entries_week_lockdown)"
   ]
  },
  {
   "cell_type": "code",
   "execution_count": 22,
   "metadata": {},
   "outputs": [],
   "source": [
    "df_stations = pd.DataFrame(stations_velib, columns =['station_id', 'name', 'address', 'latitude', 'longitude', 'banking','bonus','bike_stands'])\n",
    "df_stations = df_stations.drop(columns=['address'])"
   ]
  },
  {
   "cell_type": "markdown",
   "metadata": {},
   "source": [
    "### Get arrondissement from Geocodes "
   ]
  },
  {
   "cell_type": "code",
   "execution_count": 23,
   "metadata": {},
   "outputs": [],
   "source": [
    "import geopy\n",
    "from geopy.geocoders import Nominatim\n",
    "from geopy.extra.rate_limiter import RateLimiter"
   ]
  },
  {
   "cell_type": "code",
   "execution_count": 24,
   "metadata": {},
   "outputs": [],
   "source": [
    "def createPostcode(row):\n",
    "    geolocator = Nominatim(user_agent=\"application\")\n",
    "    reverse = RateLimiter(geolocator.reverse, min_delay_seconds=1)\n",
    "    location = reverse((row.latitude, row.longitude), language='en', exactly_one=True)\n",
    "    try:\n",
    "        return location.raw['address']['postcode']\n",
    "    except:\n",
    "        suburb = location.raw['address']['suburb']\n",
    "        if \"th\" in suburb:\n",
    "            length = len(suburb.split('th')[0])\n",
    "            if length == 1:\n",
    "                return \"7500\" + suburb.split('th')[0]\n",
    "            else:\n",
    "                return \"750\" + suburb.split('th')[0]\n",
    "        elif \"st\" in suburb:\n",
    "            return \"7500\" + suburb.split('st')[0]\n",
    "        else:\n",
    "            return \"nan\""
   ]
  },
  {
   "cell_type": "code",
   "execution_count": 25,
   "metadata": {},
   "outputs": [],
   "source": [
    "df_activity['updated'] = df_activity['updated'].apply(lambda x: datetime.datetime.fromtimestamp(int(x)).strftime('%Y-%m-%d %H:%M:%S'))\n"
   ]
  },
  {
   "cell_type": "code",
   "execution_count": 26,
   "metadata": {},
   "outputs": [],
   "source": [
    "df_activity = df_activity.drop_duplicates()\n",
    "df_stations = df_stations.drop_duplicates(subset='station_id')"
   ]
  },
  {
   "cell_type": "code",
   "execution_count": 27,
   "metadata": {},
   "outputs": [],
   "source": [
    "df_stations['postcode'] = df_stations.apply(lambda row: createPostcode(row), axis=1)"
   ]
  },
  {
   "cell_type": "code",
   "execution_count": 28,
   "metadata": {},
   "outputs": [
    {
     "data": {
      "text/html": [
       "<div>\n",
       "<style scoped>\n",
       "    .dataframe tbody tr th:only-of-type {\n",
       "        vertical-align: middle;\n",
       "    }\n",
       "\n",
       "    .dataframe tbody tr th {\n",
       "        vertical-align: top;\n",
       "    }\n",
       "\n",
       "    .dataframe thead th {\n",
       "        text-align: right;\n",
       "    }\n",
       "</style>\n",
       "<table border=\"1\" class=\"dataframe\">\n",
       "  <thead>\n",
       "    <tr style=\"text-align: right;\">\n",
       "      <th></th>\n",
       "      <th>station_id</th>\n",
       "      <th>available_bikes</th>\n",
       "      <th>available_ebikes</th>\n",
       "      <th>free_stands</th>\n",
       "      <th>status</th>\n",
       "      <th>updated</th>\n",
       "    </tr>\n",
       "  </thead>\n",
       "  <tbody>\n",
       "    <tr>\n",
       "      <th>0</th>\n",
       "      <td>4020</td>\n",
       "      <td>6</td>\n",
       "      <td>0</td>\n",
       "      <td>15</td>\n",
       "      <td>Operative</td>\n",
       "      <td>2020-03-09 00:00:12</td>\n",
       "    </tr>\n",
       "    <tr>\n",
       "      <th>1</th>\n",
       "      <td>4021</td>\n",
       "      <td>2</td>\n",
       "      <td>4</td>\n",
       "      <td>20</td>\n",
       "      <td>Operative</td>\n",
       "      <td>2020-03-09 00:00:12</td>\n",
       "    </tr>\n",
       "    <tr>\n",
       "      <th>2</th>\n",
       "      <td>32303</td>\n",
       "      <td>8</td>\n",
       "      <td>18</td>\n",
       "      <td>4</td>\n",
       "      <td>Operative</td>\n",
       "      <td>2020-03-09 00:00:12</td>\n",
       "    </tr>\n",
       "    <tr>\n",
       "      <th>3</th>\n",
       "      <td>32302</td>\n",
       "      <td>0</td>\n",
       "      <td>7</td>\n",
       "      <td>13</td>\n",
       "      <td>Operative</td>\n",
       "      <td>2020-03-09 00:00:12</td>\n",
       "    </tr>\n",
       "    <tr>\n",
       "      <th>4</th>\n",
       "      <td>32301</td>\n",
       "      <td>0</td>\n",
       "      <td>0</td>\n",
       "      <td>17</td>\n",
       "      <td>Close</td>\n",
       "      <td>2020-03-09 00:00:12</td>\n",
       "    </tr>\n",
       "  </tbody>\n",
       "</table>\n",
       "</div>"
      ],
      "text/plain": [
       "   station_id  available_bikes  available_ebikes  free_stands     status  \\\n",
       "0        4020                6                 0           15  Operative   \n",
       "1        4021                2                 4           20  Operative   \n",
       "2       32303                8                18            4  Operative   \n",
       "3       32302                0                 7           13  Operative   \n",
       "4       32301                0                 0           17      Close   \n",
       "\n",
       "               updated  \n",
       "0  2020-03-09 00:00:12  \n",
       "1  2020-03-09 00:00:12  \n",
       "2  2020-03-09 00:00:12  \n",
       "3  2020-03-09 00:00:12  \n",
       "4  2020-03-09 00:00:12  "
      ]
     },
     "execution_count": 28,
     "metadata": {},
     "output_type": "execute_result"
    }
   ],
   "source": [
    "df_activity.head()"
   ]
  },
  {
   "cell_type": "code",
   "execution_count": 29,
   "metadata": {},
   "outputs": [
    {
     "data": {
      "text/html": [
       "<div>\n",
       "<style scoped>\n",
       "    .dataframe tbody tr th:only-of-type {\n",
       "        vertical-align: middle;\n",
       "    }\n",
       "\n",
       "    .dataframe tbody tr th {\n",
       "        vertical-align: top;\n",
       "    }\n",
       "\n",
       "    .dataframe thead th {\n",
       "        text-align: right;\n",
       "    }\n",
       "</style>\n",
       "<table border=\"1\" class=\"dataframe\">\n",
       "  <thead>\n",
       "    <tr style=\"text-align: right;\">\n",
       "      <th></th>\n",
       "      <th>station_id</th>\n",
       "      <th>name</th>\n",
       "      <th>latitude</th>\n",
       "      <th>longitude</th>\n",
       "      <th>banking</th>\n",
       "      <th>bonus</th>\n",
       "      <th>bike_stands</th>\n",
       "      <th>postcode</th>\n",
       "    </tr>\n",
       "  </thead>\n",
       "  <tbody>\n",
       "    <tr>\n",
       "      <th>0</th>\n",
       "      <td>4020</td>\n",
       "      <td>Place Edmond Michelet</td>\n",
       "      <td>48.860135</td>\n",
       "      <td>2.350064</td>\n",
       "      <td>1</td>\n",
       "      <td>0</td>\n",
       "      <td>23</td>\n",
       "      <td>75004</td>\n",
       "    </tr>\n",
       "    <tr>\n",
       "      <th>1</th>\n",
       "      <td>4021</td>\n",
       "      <td>Centre Georges Pompidou</td>\n",
       "      <td>48.861419</td>\n",
       "      <td>2.352581</td>\n",
       "      <td>1</td>\n",
       "      <td>0</td>\n",
       "      <td>26</td>\n",
       "      <td>75004</td>\n",
       "    </tr>\n",
       "    <tr>\n",
       "      <th>2</th>\n",
       "      <td>32303</td>\n",
       "      <td>Gaston Roussel - Commune de Paris</td>\n",
       "      <td>48.894320</td>\n",
       "      <td>2.432552</td>\n",
       "      <td>1</td>\n",
       "      <td>0</td>\n",
       "      <td>30</td>\n",
       "      <td>93230</td>\n",
       "    </tr>\n",
       "    <tr>\n",
       "      <th>3</th>\n",
       "      <td>32302</td>\n",
       "      <td>Chemin Vert - Fraternité</td>\n",
       "      <td>48.877141</td>\n",
       "      <td>2.446157</td>\n",
       "      <td>0</td>\n",
       "      <td>0</td>\n",
       "      <td>20</td>\n",
       "      <td>93230</td>\n",
       "    </tr>\n",
       "    <tr>\n",
       "      <th>4</th>\n",
       "      <td>32301</td>\n",
       "      <td>Mairie de Romainville</td>\n",
       "      <td>48.885109</td>\n",
       "      <td>2.435679</td>\n",
       "      <td>1</td>\n",
       "      <td>0</td>\n",
       "      <td>17</td>\n",
       "      <td>93230</td>\n",
       "    </tr>\n",
       "  </tbody>\n",
       "</table>\n",
       "</div>"
      ],
      "text/plain": [
       "   station_id                               name   latitude  longitude  \\\n",
       "0        4020              Place Edmond Michelet  48.860135   2.350064   \n",
       "1        4021            Centre Georges Pompidou  48.861419   2.352581   \n",
       "2       32303  Gaston Roussel - Commune de Paris  48.894320   2.432552   \n",
       "3       32302           Chemin Vert - Fraternité  48.877141   2.446157   \n",
       "4       32301              Mairie de Romainville  48.885109   2.435679   \n",
       "\n",
       "   banking  bonus  bike_stands postcode  \n",
       "0        1      0           23    75004  \n",
       "1        1      0           26    75004  \n",
       "2        1      0           30    93230  \n",
       "3        0      0           20    93230  \n",
       "4        1      0           17    93230  "
      ]
     },
     "execution_count": 29,
     "metadata": {},
     "output_type": "execute_result"
    }
   ],
   "source": [
    "df_stations.head()"
   ]
  },
  {
   "cell_type": "code",
   "execution_count": 32,
   "metadata": {},
   "outputs": [
    {
     "data": {
      "text/html": [
       "<div>\n",
       "<style scoped>\n",
       "    .dataframe tbody tr th:only-of-type {\n",
       "        vertical-align: middle;\n",
       "    }\n",
       "\n",
       "    .dataframe tbody tr th {\n",
       "        vertical-align: top;\n",
       "    }\n",
       "\n",
       "    .dataframe thead th {\n",
       "        text-align: right;\n",
       "    }\n",
       "</style>\n",
       "<table border=\"1\" class=\"dataframe\">\n",
       "  <thead>\n",
       "    <tr style=\"text-align: right;\">\n",
       "      <th></th>\n",
       "      <th>station_id</th>\n",
       "      <th>name</th>\n",
       "      <th>latitude</th>\n",
       "      <th>longitude</th>\n",
       "      <th>banking</th>\n",
       "      <th>bonus</th>\n",
       "      <th>bike_stands</th>\n",
       "      <th>postcode</th>\n",
       "    </tr>\n",
       "  </thead>\n",
       "  <tbody>\n",
       "    <tr>\n",
       "      <th>256</th>\n",
       "      <td>15024</td>\n",
       "      <td>Suffren - La Motte-Piquet</td>\n",
       "      <td>48.850881</td>\n",
       "      <td>2.301220</td>\n",
       "      <td>1</td>\n",
       "      <td>0</td>\n",
       "      <td>23</td>\n",
       "      <td>nan</td>\n",
       "    </tr>\n",
       "    <tr>\n",
       "      <th>732</th>\n",
       "      <td>2001</td>\n",
       "      <td>Greneta - Sebastopol</td>\n",
       "      <td>48.865242</td>\n",
       "      <td>2.351667</td>\n",
       "      <td>1</td>\n",
       "      <td>0</td>\n",
       "      <td>30</td>\n",
       "      <td>nan</td>\n",
       "    </tr>\n",
       "    <tr>\n",
       "      <th>1103</th>\n",
       "      <td>18108</td>\n",
       "      <td>Evangile - Aubervilliers</td>\n",
       "      <td>48.895040</td>\n",
       "      <td>2.368797</td>\n",
       "      <td>0</td>\n",
       "      <td>0</td>\n",
       "      <td>21</td>\n",
       "      <td>nan</td>\n",
       "    </tr>\n",
       "    <tr>\n",
       "      <th>1296</th>\n",
       "      <td>16044</td>\n",
       "      <td>Porte de Saint Cloud - Parc des Princes</td>\n",
       "      <td>48.838663</td>\n",
       "      <td>2.252516</td>\n",
       "      <td>1</td>\n",
       "      <td>0</td>\n",
       "      <td>32</td>\n",
       "      <td>nan</td>\n",
       "    </tr>\n",
       "    <tr>\n",
       "      <th>1377</th>\n",
       "      <td>18049</td>\n",
       "      <td>Porte d'Aubervilliers</td>\n",
       "      <td>48.898597</td>\n",
       "      <td>2.368972</td>\n",
       "      <td>0</td>\n",
       "      <td>0</td>\n",
       "      <td>55</td>\n",
       "      <td>nan</td>\n",
       "    </tr>\n",
       "    <tr>\n",
       "      <th>1386</th>\n",
       "      <td>21951</td>\n",
       "      <td>Place Centrale</td>\n",
       "      <td>48.787402</td>\n",
       "      <td>2.227883</td>\n",
       "      <td>1</td>\n",
       "      <td>0</td>\n",
       "      <td>22</td>\n",
       "      <td>nan</td>\n",
       "    </tr>\n",
       "  </tbody>\n",
       "</table>\n",
       "</div>"
      ],
      "text/plain": [
       "      station_id                                     name   latitude  \\\n",
       "256        15024                Suffren - La Motte-Piquet  48.850881   \n",
       "732         2001                     Greneta - Sebastopol  48.865242   \n",
       "1103       18108                 Evangile - Aubervilliers  48.895040   \n",
       "1296       16044  Porte de Saint Cloud - Parc des Princes  48.838663   \n",
       "1377       18049                    Porte d'Aubervilliers  48.898597   \n",
       "1386       21951                          Place Centrale   48.787402   \n",
       "\n",
       "      longitude  banking  bonus  bike_stands postcode  \n",
       "256    2.301220        1      0           23      nan  \n",
       "732    2.351667        1      0           30      nan  \n",
       "1103   2.368797        0      0           21      nan  \n",
       "1296   2.252516        1      0           32      nan  \n",
       "1377   2.368972        0      0           55      nan  \n",
       "1386   2.227883        1      0           22      nan  "
      ]
     },
     "execution_count": 32,
     "metadata": {},
     "output_type": "execute_result"
    }
   ],
   "source": [
    "df_stations[df_stations['postcode'] == \"nan\"]"
   ]
  },
  {
   "cell_type": "markdown",
   "metadata": {},
   "source": [
    "Save dataframes into .csv files"
   ]
  },
  {
   "cell_type": "code",
   "execution_count": 33,
   "metadata": {},
   "outputs": [],
   "source": [
    "df_stations.to_csv('df_stations.csv',index=False)"
   ]
  },
  {
   "cell_type": "code",
   "execution_count": 34,
   "metadata": {},
   "outputs": [],
   "source": [
    "df_activity.to_csv('df_activity.csv',index=False)"
   ]
  }
 ],
 "metadata": {
  "kernelspec": {
   "display_name": "Python 3",
   "language": "python",
   "name": "python3"
  },
  "language_info": {
   "codemirror_mode": {
    "name": "ipython",
    "version": 3
   },
   "file_extension": ".py",
   "mimetype": "text/x-python",
   "name": "python",
   "nbconvert_exporter": "python",
   "pygments_lexer": "ipython3",
   "version": "3.8.3"
  }
 },
 "nbformat": 4,
 "nbformat_minor": 4
}
